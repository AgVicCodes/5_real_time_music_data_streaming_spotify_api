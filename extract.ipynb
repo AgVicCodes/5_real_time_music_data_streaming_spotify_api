{
 "cells": [
  {
   "cell_type": "code",
   "execution_count": 3,
   "id": "eafa8347-7970-4ec3-9634-ff837719c5bd",
   "metadata": {},
   "outputs": [],
   "source": [
    "# pip install spotipy"
   ]
  },
  {
   "cell_type": "code",
   "execution_count": 2,
   "id": "60fb5eae-0f54-49cc-9f78-2100d01c57b0",
   "metadata": {},
   "outputs": [],
   "source": [
    "import pandas as pd\n",
    "import spotipy\n",
    "import json\n",
    "from spotipy.oauth2 import SpotifyOAuth\n",
    "\n",
    "with open(\"keys.json\") as file:\n",
    "    keys = json.load(file)\n",
    "\n",
    "client = SpotifyOAuth(\n",
    "    client_id = keys[\"client_id\"], \n",
    "    client_secret = keys[\"client_secret_key\"], \n",
    "    redirect_uri = keys[\"redirect_uri\"],\n",
    "    scope = \"user-read-recently-played\"#\"user-library-read\"\n",
    "    )\n",
    "\n",
    "sp = spotipy.Spotify(auth_manager = client)"
   ]
  },
  {
   "cell_type": "code",
   "execution_count": 18,
   "id": "6c475225-76c9-430a-b374-a83de69795e6",
   "metadata": {},
   "outputs": [],
   "source": [
    "with open(\"user_recently_played.json\") as file:\n",
    "    data = json.load(file)"
   ]
  },
  {
   "cell_type": "code",
   "execution_count": 23,
   "id": "a50a2dd0-9845-4e7e-acf9-77e1043f102e",
   "metadata": {},
   "outputs": [],
   "source": [
    "df = pd.json_normalize(data[\"items\"][0][\"track\"])"
   ]
  },
  {
   "cell_type": "code",
   "execution_count": 25,
   "id": "d3317634-8e02-4abd-be98-702f1351433f",
   "metadata": {},
   "outputs": [
    {
     "data": {
      "text/html": [
       "<div>\n",
       "<style scoped>\n",
       "    .dataframe tbody tr th:only-of-type {\n",
       "        vertical-align: middle;\n",
       "    }\n",
       "\n",
       "    .dataframe tbody tr th {\n",
       "        vertical-align: top;\n",
       "    }\n",
       "\n",
       "    .dataframe thead th {\n",
       "        text-align: right;\n",
       "    }\n",
       "</style>\n",
       "<table border=\"1\" class=\"dataframe\">\n",
       "  <thead>\n",
       "    <tr style=\"text-align: right;\">\n",
       "      <th></th>\n",
       "      <th>artists</th>\n",
       "      <th>available_markets</th>\n",
       "      <th>disc_number</th>\n",
       "      <th>duration_ms</th>\n",
       "      <th>explicit</th>\n",
       "      <th>href</th>\n",
       "      <th>id</th>\n",
       "      <th>is_local</th>\n",
       "      <th>name</th>\n",
       "      <th>popularity</th>\n",
       "      <th>...</th>\n",
       "      <th>album.id</th>\n",
       "      <th>album.images</th>\n",
       "      <th>album.name</th>\n",
       "      <th>album.release_date</th>\n",
       "      <th>album.release_date_precision</th>\n",
       "      <th>album.total_tracks</th>\n",
       "      <th>album.type</th>\n",
       "      <th>album.uri</th>\n",
       "      <th>external_ids.isrc</th>\n",
       "      <th>external_urls.spotify</th>\n",
       "    </tr>\n",
       "  </thead>\n",
       "  <tbody>\n",
       "    <tr>\n",
       "      <th>0</th>\n",
       "      <td>[{'external_urls': {'spotify': 'https://open.s...</td>\n",
       "      <td>[AR, AT, BE, BO, BR, BG, CA, CL, CO, CR, CY, C...</td>\n",
       "      <td>1</td>\n",
       "      <td>217746</td>\n",
       "      <td>False</td>\n",
       "      <td>https://api.spotify.com/v1/tracks/1yvMUkIOTeUN...</td>\n",
       "      <td>1yvMUkIOTeUNtNWlWRgANS</td>\n",
       "      <td>False</td>\n",
       "      <td>Unstoppable</td>\n",
       "      <td>78</td>\n",
       "      <td>...</td>\n",
       "      <td>2eV6DIPDnGl1idcjww6xyX</td>\n",
       "      <td>[{'height': 640, 'url': 'https://i.scdn.co/ima...</td>\n",
       "      <td>This Is Acting (Deluxe Version)</td>\n",
       "      <td>2016-10-21</td>\n",
       "      <td>day</td>\n",
       "      <td>19</td>\n",
       "      <td>album</td>\n",
       "      <td>spotify:album:2eV6DIPDnGl1idcjww6xyX</td>\n",
       "      <td>USRC11502934</td>\n",
       "      <td>https://open.spotify.com/track/1yvMUkIOTeUNtNW...</td>\n",
       "    </tr>\n",
       "  </tbody>\n",
       "</table>\n",
       "<p>1 rows × 29 columns</p>\n",
       "</div>"
      ],
      "text/plain": [
       "                                             artists  \\\n",
       "0  [{'external_urls': {'spotify': 'https://open.s...   \n",
       "\n",
       "                                   available_markets  disc_number  \\\n",
       "0  [AR, AT, BE, BO, BR, BG, CA, CL, CO, CR, CY, C...            1   \n",
       "\n",
       "   duration_ms  explicit                                               href  \\\n",
       "0       217746     False  https://api.spotify.com/v1/tracks/1yvMUkIOTeUN...   \n",
       "\n",
       "                       id  is_local         name  popularity  ...  \\\n",
       "0  1yvMUkIOTeUNtNWlWRgANS     False  Unstoppable          78  ...   \n",
       "\n",
       "                 album.id                                       album.images  \\\n",
       "0  2eV6DIPDnGl1idcjww6xyX  [{'height': 640, 'url': 'https://i.scdn.co/ima...   \n",
       "\n",
       "                        album.name album.release_date  \\\n",
       "0  This Is Acting (Deluxe Version)         2016-10-21   \n",
       "\n",
       "  album.release_date_precision album.total_tracks album.type  \\\n",
       "0                          day                 19      album   \n",
       "\n",
       "                              album.uri external_ids.isrc  \\\n",
       "0  spotify:album:2eV6DIPDnGl1idcjww6xyX      USRC11502934   \n",
       "\n",
       "                               external_urls.spotify  \n",
       "0  https://open.spotify.com/track/1yvMUkIOTeUNtNW...  \n",
       "\n",
       "[1 rows x 29 columns]"
      ]
     },
     "execution_count": 25,
     "metadata": {},
     "output_type": "execute_result"
    }
   ],
   "source": [
    "df.head()"
   ]
  },
  {
   "cell_type": "code",
   "execution_count": 27,
   "id": "8eb17807-12a7-47b0-80a3-7e55c5674080",
   "metadata": {},
   "outputs": [],
   "source": [
    "df = pd.json_normalize(data[\"items\"][0][\"track\"][\"artists\"])"
   ]
  },
  {
   "cell_type": "code",
   "execution_count": 28,
   "id": "eba7b21b-3b1b-4b9f-885e-60bbd52d7fea",
   "metadata": {},
   "outputs": [
    {
     "data": {
      "text/html": [
       "<div>\n",
       "<style scoped>\n",
       "    .dataframe tbody tr th:only-of-type {\n",
       "        vertical-align: middle;\n",
       "    }\n",
       "\n",
       "    .dataframe tbody tr th {\n",
       "        vertical-align: top;\n",
       "    }\n",
       "\n",
       "    .dataframe thead th {\n",
       "        text-align: right;\n",
       "    }\n",
       "</style>\n",
       "<table border=\"1\" class=\"dataframe\">\n",
       "  <thead>\n",
       "    <tr style=\"text-align: right;\">\n",
       "      <th></th>\n",
       "      <th>href</th>\n",
       "      <th>id</th>\n",
       "      <th>name</th>\n",
       "      <th>type</th>\n",
       "      <th>uri</th>\n",
       "      <th>external_urls.spotify</th>\n",
       "    </tr>\n",
       "  </thead>\n",
       "  <tbody>\n",
       "    <tr>\n",
       "      <th>0</th>\n",
       "      <td>https://api.spotify.com/v1/artists/5WUlDfRSoLA...</td>\n",
       "      <td>5WUlDfRSoLAfcVSX1WnrxN</td>\n",
       "      <td>Sia</td>\n",
       "      <td>artist</td>\n",
       "      <td>spotify:artist:5WUlDfRSoLAfcVSX1WnrxN</td>\n",
       "      <td>https://open.spotify.com/artist/5WUlDfRSoLAfcV...</td>\n",
       "    </tr>\n",
       "  </tbody>\n",
       "</table>\n",
       "</div>"
      ],
      "text/plain": [
       "                                                href                      id  \\\n",
       "0  https://api.spotify.com/v1/artists/5WUlDfRSoLA...  5WUlDfRSoLAfcVSX1WnrxN   \n",
       "\n",
       "  name    type                                    uri  \\\n",
       "0  Sia  artist  spotify:artist:5WUlDfRSoLAfcVSX1WnrxN   \n",
       "\n",
       "                               external_urls.spotify  \n",
       "0  https://open.spotify.com/artist/5WUlDfRSoLAfcV...  "
      ]
     },
     "execution_count": 28,
     "metadata": {},
     "output_type": "execute_result"
    }
   ],
   "source": [
    "df.head()"
   ]
  }
 ],
 "metadata": {
  "kernelspec": {
   "display_name": "Python 3 (ipykernel)",
   "language": "python",
   "name": "python3"
  },
  "language_info": {
   "codemirror_mode": {
    "name": "ipython",
    "version": 3
   },
   "file_extension": ".py",
   "mimetype": "text/x-python",
   "name": "python",
   "nbconvert_exporter": "python",
   "pygments_lexer": "ipython3",
   "version": "3.12.4"
  }
 },
 "nbformat": 4,
 "nbformat_minor": 5
}
