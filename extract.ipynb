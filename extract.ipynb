{
 "cells": [
  {
   "cell_type": "code",
   "execution_count": 3,
   "id": "eafa8347-7970-4ec3-9634-ff837719c5bd",
   "metadata": {},
   "outputs": [],
   "source": [
    "# pip install spotipy"
   ]
  },
  {
   "cell_type": "code",
   "execution_count": 2,
   "id": "60fb5eae-0f54-49cc-9f78-2100d01c57b0",
   "metadata": {},
   "outputs": [],
   "source": [
    "import pandas as pd\n",
    "import spotipy\n",
    "import json\n",
    "from spotipy.oauth2 import SpotifyOAuth\n",
    "\n",
    "with open(\"keys.json\") as file:\n",
    "    keys = json.load(file)\n",
    "\n",
    "client = SpotifyOAuth(\n",
    "    client_id = keys[\"client_id\"], \n",
    "    client_secret = keys[\"client_secret_key\"], \n",
    "    redirect_uri = keys[\"redirect_uri\"],\n",
    "    scope = \"user-read-recently-played\"#\"user-library-read\"\n",
    "    )\n",
    "\n",
    "sp = spotipy.Spotify(auth_manager = client)"
   ]
  },
  {
   "cell_type": "code",
   "execution_count": 18,
   "id": "6c475225-76c9-430a-b374-a83de69795e6",
   "metadata": {},
   "outputs": [],
   "source": [
    "with open(\"user_recently_played.json\") as file:\n",
    "    data = json.load(file)"
   ]
  },
  {
   "cell_type": "code",
   "execution_count": 62,
   "id": "a50a2dd0-9845-4e7e-acf9-77e1043f102e",
   "metadata": {},
   "outputs": [
    {
     "ename": "KeyError",
     "evalue": "\"Key 'artist.id' not found. To replace missing values of 'artist.id' with np.nan, pass in errors='ignore'\"",
     "output_type": "error",
     "traceback": [
      "\u001b[1;31m---------------------------------------------------------------------------\u001b[0m",
      "\u001b[1;31mKeyError\u001b[0m                                  Traceback (most recent call last)",
      "File \u001b[1;32m~\\anaconda3\\Lib\\site-packages\\pandas\\io\\json\\_normalize.py:396\u001b[0m, in \u001b[0;36mjson_normalize.<locals>._pull_field\u001b[1;34m(js, spec, extract_record)\u001b[0m\n\u001b[0;32m    395\u001b[0m             \u001b[38;5;28;01mraise\u001b[39;00m \u001b[38;5;167;01mKeyError\u001b[39;00m(field)\n\u001b[1;32m--> 396\u001b[0m         result \u001b[38;5;241m=\u001b[39m result[field]\n\u001b[0;32m    397\u001b[0m \u001b[38;5;28;01melse\u001b[39;00m:\n",
      "\u001b[1;31mKeyError\u001b[0m: 'artist.id'",
      "\nThe above exception was the direct cause of the following exception:\n",
      "\u001b[1;31mKeyError\u001b[0m                                  Traceback (most recent call last)",
      "Cell \u001b[1;32mIn[62], line 7\u001b[0m\n\u001b[0;32m      1\u001b[0m df \u001b[38;5;241m=\u001b[39m pd\u001b[38;5;241m.\u001b[39mDataFrame(columns \u001b[38;5;241m=\u001b[39m [\u001b[38;5;124m\"\u001b[39m\u001b[38;5;124martists\u001b[39m\u001b[38;5;124m\"\u001b[39m, \u001b[38;5;124m\"\u001b[39m\u001b[38;5;124mavailable_markets\u001b[39m\u001b[38;5;124m\"\u001b[39m, \u001b[38;5;124m\"\u001b[39m\u001b[38;5;124mdisc_number\u001b[39m\u001b[38;5;124m\"\u001b[39m, \u001b[38;5;124m\"\u001b[39m\u001b[38;5;124mduration_ms\u001b[39m\u001b[38;5;124m\"\u001b[39m, \u001b[38;5;124m\"\u001b[39m\u001b[38;5;124mexplicit\u001b[39m\u001b[38;5;124m\"\u001b[39m, \u001b[38;5;124m\"\u001b[39m\u001b[38;5;124mhref\u001b[39m\u001b[38;5;124m\"\u001b[39m, \u001b[38;5;124m\"\u001b[39m\u001b[38;5;124mid\u001b[39m\u001b[38;5;124m\"\u001b[39m, \u001b[38;5;124m\"\u001b[39m\u001b[38;5;124mis_local\u001b[39m\u001b[38;5;124m\"\u001b[39m, \u001b[38;5;124m\"\u001b[39m\u001b[38;5;124mname\u001b[39m\u001b[38;5;124m\"\u001b[39m, \u001b[38;5;124m\"\u001b[39m\u001b[38;5;124mpopularity\u001b[39m\u001b[38;5;124m\"\u001b[39m, \u001b[38;5;124m\"\u001b[39m\u001b[38;5;124mpreview_url\u001b[39m\u001b[38;5;124m\"\u001b[39m, \u001b[38;5;124m\"\u001b[39m\u001b[38;5;124mtrack_number\u001b[39m\u001b[38;5;124m\"\u001b[39m, \u001b[38;5;124m\"\u001b[39m\u001b[38;5;124mtype\u001b[39m\u001b[38;5;124m\"\u001b[39m, \u001b[38;5;124m\"\u001b[39m\u001b[38;5;124muri\u001b[39m\u001b[38;5;124m\"\u001b[39m, \u001b[38;5;124m\"\u001b[39m\u001b[38;5;124malbum.lbum_type\u001b[39m\u001b[38;5;124m\"\u001b[39m, \u001b[38;5;124m\"\u001b[39m\u001b[38;5;124malbum.artists\u001b[39m\u001b[38;5;124m\"\u001b[39m, \u001b[38;5;124m\"\u001b[39m\u001b[38;5;124malbum.available_markets\u001b[39m\u001b[38;5;124m\"\u001b[39m, \u001b[38;5;124m\"\u001b[39m\u001b[38;5;124malbum.external_urls.spotify\u001b[39m\u001b[38;5;124m\"\u001b[39m, \u001b[38;5;124m\"\u001b[39m\u001b[38;5;124malbum.href\u001b[39m\u001b[38;5;124m\"\u001b[39m, \u001b[38;5;124m\"\u001b[39m\u001b[38;5;124malbum.id\u001b[39m\u001b[38;5;124m\"\u001b[39m, \u001b[38;5;124m\"\u001b[39m\u001b[38;5;124malbum.images\u001b[39m\u001b[38;5;124m\"\u001b[39m, \u001b[38;5;124m\"\u001b[39m\u001b[38;5;124malbum.name\u001b[39m\u001b[38;5;124m\"\u001b[39m, \u001b[38;5;124m\"\u001b[39m\u001b[38;5;124malbum.release_date\u001b[39m\u001b[38;5;124m\"\u001b[39m, \u001b[38;5;124m\"\u001b[39m\u001b[38;5;124malbum.release_date_precision\u001b[39m\u001b[38;5;124m\"\u001b[39m, \u001b[38;5;124m\"\u001b[39m\u001b[38;5;124malbum.total_tracks\u001b[39m\u001b[38;5;124m\"\u001b[39m, \u001b[38;5;124m\"\u001b[39m\u001b[38;5;124malbum.type\u001b[39m\u001b[38;5;124m\"\u001b[39m, \u001b[38;5;124m\"\u001b[39m\u001b[38;5;124malbum.uri\u001b[39m\u001b[38;5;124m\"\u001b[39m, \u001b[38;5;124m\"\u001b[39m\u001b[38;5;124mexternal_ids.isrc\u001b[39m\u001b[38;5;124m\"\u001b[39m, \u001b[38;5;124m\"\u001b[39m\u001b[38;5;124mexternal_urls.spotify\u001b[39m\u001b[38;5;124m\"\u001b[39m])\n\u001b[0;32m      3\u001b[0m \u001b[38;5;66;03m# for i in range(50):\u001b[39;00m\n\u001b[0;32m      4\u001b[0m \u001b[38;5;66;03m#     temp_df = pd.json_normalize(data[\"items\"][i][\"track\"])\u001b[39;00m\n\u001b[0;32m      5\u001b[0m \u001b[38;5;66;03m#     df = df._append(temp_df, ignore_index = True)\u001b[39;00m\n\u001b[1;32m----> 7\u001b[0m df \u001b[38;5;241m=\u001b[39m pd\u001b[38;5;241m.\u001b[39mjson_normalize(data[\u001b[38;5;124m\"\u001b[39m\u001b[38;5;124mitems\u001b[39m\u001b[38;5;124m\"\u001b[39m][i][\u001b[38;5;124m\"\u001b[39m\u001b[38;5;124mtrack\u001b[39m\u001b[38;5;124m\"\u001b[39m], record_path \u001b[38;5;241m=\u001b[39m [\u001b[38;5;124m\"\u001b[39m\u001b[38;5;124martists\u001b[39m\u001b[38;5;124m\"\u001b[39m], meta \u001b[38;5;241m=\u001b[39m [\u001b[38;5;124m\"\u001b[39m\u001b[38;5;124martist.id\u001b[39m\u001b[38;5;124m\"\u001b[39m])\n\u001b[0;32m      9\u001b[0m pd\u001b[38;5;241m.\u001b[39mset_option(\u001b[38;5;124m'\u001b[39m\u001b[38;5;124mdisplay.max_columns\u001b[39m\u001b[38;5;124m'\u001b[39m, \u001b[38;5;28;01mNone\u001b[39;00m) \n\u001b[0;32m     10\u001b[0m df\u001b[38;5;241m.\u001b[39mhead()\n",
      "File \u001b[1;32m~\\anaconda3\\Lib\\site-packages\\pandas\\io\\json\\_normalize.py:517\u001b[0m, in \u001b[0;36mjson_normalize\u001b[1;34m(data, record_path, meta, meta_prefix, record_prefix, errors, sep, max_level)\u001b[0m\n\u001b[0;32m    514\u001b[0m                 meta_vals[key]\u001b[38;5;241m.\u001b[39mappend(meta_val)\n\u001b[0;32m    515\u001b[0m             records\u001b[38;5;241m.\u001b[39mextend(recs)\n\u001b[1;32m--> 517\u001b[0m _recursive_extract(data, record_path, {}, level\u001b[38;5;241m=\u001b[39m\u001b[38;5;241m0\u001b[39m)\n\u001b[0;32m    519\u001b[0m result \u001b[38;5;241m=\u001b[39m DataFrame(records)\n\u001b[0;32m    521\u001b[0m \u001b[38;5;28;01mif\u001b[39;00m record_prefix \u001b[38;5;129;01mis\u001b[39;00m \u001b[38;5;129;01mnot\u001b[39;00m \u001b[38;5;28;01mNone\u001b[39;00m:\n",
      "File \u001b[1;32m~\\anaconda3\\Lib\\site-packages\\pandas\\io\\json\\_normalize.py:513\u001b[0m, in \u001b[0;36mjson_normalize.<locals>._recursive_extract\u001b[1;34m(data, path, seen_meta, level)\u001b[0m\n\u001b[0;32m    511\u001b[0m         meta_val \u001b[38;5;241m=\u001b[39m seen_meta[key]\n\u001b[0;32m    512\u001b[0m     \u001b[38;5;28;01melse\u001b[39;00m:\n\u001b[1;32m--> 513\u001b[0m         meta_val \u001b[38;5;241m=\u001b[39m _pull_field(obj, val[level:])\n\u001b[0;32m    514\u001b[0m     meta_vals[key]\u001b[38;5;241m.\u001b[39mappend(meta_val)\n\u001b[0;32m    515\u001b[0m records\u001b[38;5;241m.\u001b[39mextend(recs)\n",
      "File \u001b[1;32m~\\anaconda3\\Lib\\site-packages\\pandas\\io\\json\\_normalize.py:408\u001b[0m, in \u001b[0;36mjson_normalize.<locals>._pull_field\u001b[1;34m(js, spec, extract_record)\u001b[0m\n\u001b[0;32m    406\u001b[0m         \u001b[38;5;28;01mreturn\u001b[39;00m np\u001b[38;5;241m.\u001b[39mnan\n\u001b[0;32m    407\u001b[0m     \u001b[38;5;28;01melse\u001b[39;00m:\n\u001b[1;32m--> 408\u001b[0m         \u001b[38;5;28;01mraise\u001b[39;00m \u001b[38;5;167;01mKeyError\u001b[39;00m(\n\u001b[0;32m    409\u001b[0m             \u001b[38;5;124mf\u001b[39m\u001b[38;5;124m\"\u001b[39m\u001b[38;5;124mKey \u001b[39m\u001b[38;5;132;01m{\u001b[39;00me\u001b[38;5;132;01m}\u001b[39;00m\u001b[38;5;124m not found. To replace missing values of \u001b[39m\u001b[38;5;132;01m{\u001b[39;00me\u001b[38;5;132;01m}\u001b[39;00m\u001b[38;5;124m with \u001b[39m\u001b[38;5;124m\"\u001b[39m\n\u001b[0;32m    410\u001b[0m             \u001b[38;5;124mf\u001b[39m\u001b[38;5;124m\"\u001b[39m\u001b[38;5;124mnp.nan, pass in errors=\u001b[39m\u001b[38;5;124m'\u001b[39m\u001b[38;5;124mignore\u001b[39m\u001b[38;5;124m'\u001b[39m\u001b[38;5;124m\"\u001b[39m\n\u001b[0;32m    411\u001b[0m         ) \u001b[38;5;28;01mfrom\u001b[39;00m \u001b[38;5;21;01me\u001b[39;00m\n\u001b[0;32m    413\u001b[0m \u001b[38;5;28;01mreturn\u001b[39;00m result\n",
      "\u001b[1;31mKeyError\u001b[0m: \"Key 'artist.id' not found. To replace missing values of 'artist.id' with np.nan, pass in errors='ignore'\""
     ]
    }
   ],
   "source": [
    "df = pd.DataFrame(columns = [\"artists\", \"available_markets\", \"disc_number\", \"duration_ms\", \"explicit\", \"href\", \"id\", \"is_local\", \"name\", \"popularity\", \"preview_url\", \"track_number\", \"type\", \"uri\", \"album.lbum_type\", \"album.artists\", \"album.available_markets\", \"album.external_urls.spotify\", \"album.href\", \"album.id\", \"album.images\", \"album.name\", \"album.release_date\", \"album.release_date_precision\", \"album.total_tracks\", \"album.type\", \"album.uri\", \"external_ids.isrc\", \"external_urls.spotify\"])\n",
    "\n",
    "# for i in range(50):\n",
    "#     temp_df = pd.json_normalize(data[\"items\"][i][\"track\"])\n",
    "#     df = df._append(temp_df, ignore_index = True)\n",
    "\n",
    "df = pd.json_normalize(data[\"items\"][i][\"track\"], record_path = [\"artists\"], meta = [\"track.id\"])\n",
    "\n",
    "pd.set_option('display.max_columns', None) \n",
    "df.head()"
   ]
  },
  {
   "cell_type": "code",
   "execution_count": null,
   "id": "d3317634-8e02-4abd-be98-702f1351433f",
   "metadata": {},
   "outputs": [],
   "source": []
  },
  {
   "cell_type": "code",
   "execution_count": 27,
   "id": "8eb17807-12a7-47b0-80a3-7e55c5674080",
   "metadata": {},
   "outputs": [],
   "source": [
    "df = pd.json_normalize(data[\"items\"][0][\"track\"][\"artists\"])"
   ]
  },
  {
   "cell_type": "code",
   "execution_count": 28,
   "id": "eba7b21b-3b1b-4b9f-885e-60bbd52d7fea",
   "metadata": {
    "scrolled": true
   },
   "outputs": [
    {
     "data": {
      "text/html": [
       "<div>\n",
       "<style scoped>\n",
       "    .dataframe tbody tr th:only-of-type {\n",
       "        vertical-align: middle;\n",
       "    }\n",
       "\n",
       "    .dataframe tbody tr th {\n",
       "        vertical-align: top;\n",
       "    }\n",
       "\n",
       "    .dataframe thead th {\n",
       "        text-align: right;\n",
       "    }\n",
       "</style>\n",
       "<table border=\"1\" class=\"dataframe\">\n",
       "  <thead>\n",
       "    <tr style=\"text-align: right;\">\n",
       "      <th></th>\n",
       "      <th>href</th>\n",
       "      <th>id</th>\n",
       "      <th>name</th>\n",
       "      <th>type</th>\n",
       "      <th>uri</th>\n",
       "      <th>external_urls.spotify</th>\n",
       "    </tr>\n",
       "  </thead>\n",
       "  <tbody>\n",
       "    <tr>\n",
       "      <th>0</th>\n",
       "      <td>https://api.spotify.com/v1/artists/5WUlDfRSoLA...</td>\n",
       "      <td>5WUlDfRSoLAfcVSX1WnrxN</td>\n",
       "      <td>Sia</td>\n",
       "      <td>artist</td>\n",
       "      <td>spotify:artist:5WUlDfRSoLAfcVSX1WnrxN</td>\n",
       "      <td>https://open.spotify.com/artist/5WUlDfRSoLAfcV...</td>\n",
       "    </tr>\n",
       "  </tbody>\n",
       "</table>\n",
       "</div>"
      ],
      "text/plain": [
       "                                                href                      id  \\\n",
       "0  https://api.spotify.com/v1/artists/5WUlDfRSoLA...  5WUlDfRSoLAfcVSX1WnrxN   \n",
       "\n",
       "  name    type                                    uri  \\\n",
       "0  Sia  artist  spotify:artist:5WUlDfRSoLAfcVSX1WnrxN   \n",
       "\n",
       "                               external_urls.spotify  \n",
       "0  https://open.spotify.com/artist/5WUlDfRSoLAfcV...  "
      ]
     },
     "execution_count": 28,
     "metadata": {},
     "output_type": "execute_result"
    }
   ],
   "source": [
    "df.head()"
   ]
  },
  {
   "cell_type": "code",
   "execution_count": null,
   "id": "5883f1c2-3644-483b-bee6-8d9edb96e3e2",
   "metadata": {},
   "outputs": [],
   "source": []
  }
 ],
 "metadata": {
  "kernelspec": {
   "display_name": "Python 3 (ipykernel)",
   "language": "python",
   "name": "python3"
  },
  "language_info": {
   "codemirror_mode": {
    "name": "ipython",
    "version": 3
   },
   "file_extension": ".py",
   "mimetype": "text/x-python",
   "name": "python",
   "nbconvert_exporter": "python",
   "pygments_lexer": "ipython3",
   "version": "3.12.4"
  }
 },
 "nbformat": 4,
 "nbformat_minor": 5
}
