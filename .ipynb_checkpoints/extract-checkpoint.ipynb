{
 "cells": [
  {
   "cell_type": "code",
   "execution_count": 3,
   "id": "eafa8347-7970-4ec3-9634-ff837719c5bd",
   "metadata": {},
   "outputs": [],
   "source": [
    "# pip install spotipy"
   ]
  },
  {
   "cell_type": "code",
   "execution_count": 2,
   "id": "60fb5eae-0f54-49cc-9f78-2100d01c57b0",
   "metadata": {},
   "outputs": [],
   "source": [
    "import pandas as pd\n",
    "import spotipy\n",
    "import json\n",
    "from spotipy.oauth2 import SpotifyOAuth\n",
    "\n",
    "with open(\"keys.json\") as file:\n",
    "    keys = json.load(file)\n",
    "\n",
    "client = SpotifyOAuth(\n",
    "    client_id = keys[\"client_id\"], \n",
    "    client_secret = keys[\"client_secret_key\"], \n",
    "    redirect_uri = keys[\"redirect_uri\"],\n",
    "    scope = \"user-read-recently-played\"#\"user-library-read\"\n",
    "    )\n",
    "\n",
    "sp = spotipy.Spotify(auth_manager = client)"
   ]
  },
  {
   "cell_type": "code",
   "execution_count": 18,
   "id": "6c475225-76c9-430a-b374-a83de69795e6",
   "metadata": {},
   "outputs": [],
   "source": [
    "with open(\"user_recently_played.json\") as file:\n",
    "    data = json.load(file)"
   ]
  },
  {
   "cell_type": "code",
   "execution_count": 55,
   "id": "a50a2dd0-9845-4e7e-acf9-77e1043f102e",
   "metadata": {},
   "outputs": [
    {
     "data": {
      "text/html": [
       "<div>\n",
       "<style scoped>\n",
       "    .dataframe tbody tr th:only-of-type {\n",
       "        vertical-align: middle;\n",
       "    }\n",
       "\n",
       "    .dataframe tbody tr th {\n",
       "        vertical-align: top;\n",
       "    }\n",
       "\n",
       "    .dataframe thead th {\n",
       "        text-align: right;\n",
       "    }\n",
       "</style>\n",
       "<table border=\"1\" class=\"dataframe\">\n",
       "  <thead>\n",
       "    <tr style=\"text-align: right;\">\n",
       "      <th></th>\n",
       "      <th>href</th>\n",
       "      <th>id</th>\n",
       "      <th>name</th>\n",
       "      <th>type</th>\n",
       "      <th>uri</th>\n",
       "      <th>external_urls.spotify</th>\n",
       "    </tr>\n",
       "  </thead>\n",
       "  <tbody>\n",
       "    <tr>\n",
       "      <th>0</th>\n",
       "      <td>https://api.spotify.com/v1/artists/66W9LaWS0DP...</td>\n",
       "      <td>66W9LaWS0DPdL7Sz8iYGYe</td>\n",
       "      <td>JP Saxe</td>\n",
       "      <td>artist</td>\n",
       "      <td>spotify:artist:66W9LaWS0DPdL7Sz8iYGYe</td>\n",
       "      <td>https://open.spotify.com/artist/66W9LaWS0DPdL7...</td>\n",
       "    </tr>\n",
       "    <tr>\n",
       "      <th>1</th>\n",
       "      <td>https://api.spotify.com/v1/artists/0ZED1XzwlLH...</td>\n",
       "      <td>0ZED1XzwlLHW4ZaG4lOT6m</td>\n",
       "      <td>Julia Michaels</td>\n",
       "      <td>artist</td>\n",
       "      <td>spotify:artist:0ZED1XzwlLHW4ZaG4lOT6m</td>\n",
       "      <td>https://open.spotify.com/artist/0ZED1XzwlLHW4Z...</td>\n",
       "    </tr>\n",
       "  </tbody>\n",
       "</table>\n",
       "</div>"
      ],
      "text/plain": [
       "                                                href                      id  \\\n",
       "0  https://api.spotify.com/v1/artists/66W9LaWS0DP...  66W9LaWS0DPdL7Sz8iYGYe   \n",
       "1  https://api.spotify.com/v1/artists/0ZED1XzwlLH...  0ZED1XzwlLHW4ZaG4lOT6m   \n",
       "\n",
       "             name    type                                    uri  \\\n",
       "0         JP Saxe  artist  spotify:artist:66W9LaWS0DPdL7Sz8iYGYe   \n",
       "1  Julia Michaels  artist  spotify:artist:0ZED1XzwlLHW4ZaG4lOT6m   \n",
       "\n",
       "                               external_urls.spotify  \n",
       "0  https://open.spotify.com/artist/66W9LaWS0DPdL7...  \n",
       "1  https://open.spotify.com/artist/0ZED1XzwlLHW4Z...  "
      ]
     },
     "execution_count": 55,
     "metadata": {},
     "output_type": "execute_result"
    }
   ],
   "source": [
    "df = pd.DataFrame(columns = [\"artists\", \"available_markets\", \"disc_number\", \"duration_ms\", \"explicit\", \"href\", \"id\", \"is_local\", \"name\", \"popularity\", \"preview_url\", \"track_number\", \"type\", \"uri\", \"album.lbum_type\", \"album.artists\", \"album.available_markets\", \"album.external_urls.spotify\", \"album.href\", \"album.id\", \"album.images\", \"album.name\", \"album.release_date\", \"album.release_date_precision\", \"album.total_tracks\", \"album.type\", \"album.uri\", \"external_ids.isrc\", \"external_urls.spotify\"])\n",
    "\n",
    "# for i in range(50):\n",
    "#     temp_df = pd.json_normalize(data[\"items\"][i][\"track\"])\n",
    "#     df = df._append(temp_df, ignore_index = True)\n",
    "\n",
    "df = pd.json_normalize(data[\"items\"][i][\"track\"], record_path = [\"artists\"])\n",
    "\n",
    "pd.set_option('display.max_columns', None) \n",
    "df.head()"
   ]
  },
  {
   "cell_type": "code",
   "execution_count": null,
   "id": "d3317634-8e02-4abd-be98-702f1351433f",
   "metadata": {},
   "outputs": [],
   "source": []
  },
  {
   "cell_type": "code",
   "execution_count": 27,
   "id": "8eb17807-12a7-47b0-80a3-7e55c5674080",
   "metadata": {},
   "outputs": [],
   "source": [
    "df = pd.json_normalize(data[\"items\"][0][\"track\"][\"artists\"])"
   ]
  },
  {
   "cell_type": "code",
   "execution_count": 28,
   "id": "eba7b21b-3b1b-4b9f-885e-60bbd52d7fea",
   "metadata": {
    "scrolled": true
   },
   "outputs": [
    {
     "data": {
      "text/html": [
       "<div>\n",
       "<style scoped>\n",
       "    .dataframe tbody tr th:only-of-type {\n",
       "        vertical-align: middle;\n",
       "    }\n",
       "\n",
       "    .dataframe tbody tr th {\n",
       "        vertical-align: top;\n",
       "    }\n",
       "\n",
       "    .dataframe thead th {\n",
       "        text-align: right;\n",
       "    }\n",
       "</style>\n",
       "<table border=\"1\" class=\"dataframe\">\n",
       "  <thead>\n",
       "    <tr style=\"text-align: right;\">\n",
       "      <th></th>\n",
       "      <th>href</th>\n",
       "      <th>id</th>\n",
       "      <th>name</th>\n",
       "      <th>type</th>\n",
       "      <th>uri</th>\n",
       "      <th>external_urls.spotify</th>\n",
       "    </tr>\n",
       "  </thead>\n",
       "  <tbody>\n",
       "    <tr>\n",
       "      <th>0</th>\n",
       "      <td>https://api.spotify.com/v1/artists/5WUlDfRSoLA...</td>\n",
       "      <td>5WUlDfRSoLAfcVSX1WnrxN</td>\n",
       "      <td>Sia</td>\n",
       "      <td>artist</td>\n",
       "      <td>spotify:artist:5WUlDfRSoLAfcVSX1WnrxN</td>\n",
       "      <td>https://open.spotify.com/artist/5WUlDfRSoLAfcV...</td>\n",
       "    </tr>\n",
       "  </tbody>\n",
       "</table>\n",
       "</div>"
      ],
      "text/plain": [
       "                                                href                      id  \\\n",
       "0  https://api.spotify.com/v1/artists/5WUlDfRSoLA...  5WUlDfRSoLAfcVSX1WnrxN   \n",
       "\n",
       "  name    type                                    uri  \\\n",
       "0  Sia  artist  spotify:artist:5WUlDfRSoLAfcVSX1WnrxN   \n",
       "\n",
       "                               external_urls.spotify  \n",
       "0  https://open.spotify.com/artist/5WUlDfRSoLAfcV...  "
      ]
     },
     "execution_count": 28,
     "metadata": {},
     "output_type": "execute_result"
    }
   ],
   "source": [
    "df.head()"
   ]
  },
  {
   "cell_type": "code",
   "execution_count": null,
   "id": "5883f1c2-3644-483b-bee6-8d9edb96e3e2",
   "metadata": {},
   "outputs": [],
   "source": []
  }
 ],
 "metadata": {
  "kernelspec": {
   "display_name": "Python 3 (ipykernel)",
   "language": "python",
   "name": "python3"
  },
  "language_info": {
   "codemirror_mode": {
    "name": "ipython",
    "version": 3
   },
   "file_extension": ".py",
   "mimetype": "text/x-python",
   "name": "python",
   "nbconvert_exporter": "python",
   "pygments_lexer": "ipython3",
   "version": "3.12.4"
  }
 },
 "nbformat": 4,
 "nbformat_minor": 5
}
