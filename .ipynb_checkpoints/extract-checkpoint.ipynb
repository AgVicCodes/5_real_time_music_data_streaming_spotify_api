{
 "cells": [
  {
   "cell_type": "code",
   "execution_count": 3,
   "id": "eafa8347-7970-4ec3-9634-ff837719c5bd",
   "metadata": {},
   "outputs": [],
   "source": [
    "# pip install spotipy"
   ]
  },
  {
   "cell_type": "code",
   "execution_count": 2,
   "id": "60fb5eae-0f54-49cc-9f78-2100d01c57b0",
   "metadata": {},
   "outputs": [],
   "source": [
    "import pandas as pd\n",
    "import spotipy\n",
    "import json\n",
    "from spotipy.oauth2 import SpotifyOAuth\n",
    "\n",
    "with open(\"keys.json\") as file:\n",
    "    keys = json.load(file)\n",
    "\n",
    "client = SpotifyOAuth(\n",
    "    client_id = keys[\"client_id\"], \n",
    "    client_secret = keys[\"client_secret_key\"], \n",
    "    redirect_uri = keys[\"redirect_uri\"],\n",
    "    scope = \"user-read-recently-played\"#\"user-library-read\"\n",
    "    )\n",
    "\n",
    "sp = spotipy.Spotify(auth_manager = client)"
   ]
  },
  {
   "cell_type": "code",
   "execution_count": 18,
   "id": "6c475225-76c9-430a-b374-a83de69795e6",
   "metadata": {},
   "outputs": [],
   "source": [
    "with open(\"user_recently_played.json\") as file:\n",
    "    data = json.load(file)"
   ]
  },
  {
   "cell_type": "code",
   "execution_count": 20,
   "id": "a50a2dd0-9845-4e7e-acf9-77e1043f102e",
   "metadata": {},
   "outputs": [
    {
     "name": "stdout",
     "output_type": "stream",
     "text": [
      "{'album': {'album_type': 'album', 'artists': [{'external_urls': {'spotify': 'https://open.spotify.com/artist/5WUlDfRSoLAfcVSX1WnrxN'}, 'href': 'https://api.spotify.com/v1/artists/5WUlDfRSoLAfcVSX1WnrxN', 'id': '5WUlDfRSoLAfcVSX1WnrxN', 'name': 'Sia', 'type': 'artist', 'uri': 'spotify:artist:5WUlDfRSoLAfcVSX1WnrxN'}], 'available_markets': ['AR', 'AT', 'BE', 'BO', 'BR', 'BG', 'CA', 'CL', 'CO', 'CR', 'CY', 'CZ', 'DK', 'DO', 'DE', 'EC', 'EE', 'SV', 'FI', 'FR', 'GR', 'GT', 'HN', 'HK', 'HU', 'IS', 'IE', 'IT', 'LV', 'LT', 'LU', 'MY', 'MT', 'MX', 'NL', 'NI', 'NO', 'PA', 'PY', 'PE', 'PH', 'PL', 'PT', 'SG', 'SK', 'ES', 'SE', 'CH', 'TW', 'TR', 'UY', 'US', 'GB', 'AD', 'LI', 'MC', 'ID', 'JP', 'TH', 'VN', 'RO', 'IL', 'ZA', 'SA', 'AE', 'BH', 'QA', 'OM', 'KW', 'EG', 'MA', 'DZ', 'TN', 'LB', 'JO', 'PS', 'IN', 'BY', 'KZ', 'MD', 'UA', 'AL', 'BA', 'HR', 'ME', 'MK', 'RS', 'SI', 'BD', 'PK', 'LK', 'GH', 'KE', 'NG', 'TZ', 'UG', 'AG', 'AM', 'BS', 'BB', 'BZ', 'BT', 'BW', 'BF', 'CV', 'CW', 'DM', 'GM', 'GE', 'GD', 'GW', 'GY', 'HT', 'JM', 'LS', 'LR', 'MW', 'MV', 'ML', 'FM', 'NA', 'NE', 'PR', 'SM', 'ST', 'SN', 'SC', 'SL', 'KN', 'LC', 'VC', 'SR', 'TL', 'TT', 'AZ', 'BN', 'BI', 'KH', 'CM', 'TD', 'KM', 'GQ', 'SZ', 'GA', 'GN', 'KG', 'LA', 'MO', 'MR', 'MN', 'NP', 'RW', 'TG', 'UZ', 'ZW', 'BJ', 'MG', 'MU', 'MZ', 'AO', 'CI', 'DJ', 'ZM', 'CD', 'CG', 'IQ', 'LY', 'TJ', 'VE', 'ET', 'XK'], 'external_urls': {'spotify': 'https://open.spotify.com/album/2eV6DIPDnGl1idcjww6xyX'}, 'href': 'https://api.spotify.com/v1/albums/2eV6DIPDnGl1idcjww6xyX', 'id': '2eV6DIPDnGl1idcjww6xyX', 'images': [{'height': 640, 'url': 'https://i.scdn.co/image/ab67616d0000b273754b2fddebe7039fdb912837', 'width': 640}, {'height': 300, 'url': 'https://i.scdn.co/image/ab67616d00001e02754b2fddebe7039fdb912837', 'width': 300}, {'height': 64, 'url': 'https://i.scdn.co/image/ab67616d00004851754b2fddebe7039fdb912837', 'width': 64}], 'name': 'This Is Acting (Deluxe Version)', 'release_date': '2016-10-21', 'release_date_precision': 'day', 'total_tracks': 19, 'type': 'album', 'uri': 'spotify:album:2eV6DIPDnGl1idcjww6xyX'}, 'artists': [{'external_urls': {'spotify': 'https://open.spotify.com/artist/5WUlDfRSoLAfcVSX1WnrxN'}, 'href': 'https://api.spotify.com/v1/artists/5WUlDfRSoLAfcVSX1WnrxN', 'id': '5WUlDfRSoLAfcVSX1WnrxN', 'name': 'Sia', 'type': 'artist', 'uri': 'spotify:artist:5WUlDfRSoLAfcVSX1WnrxN'}], 'available_markets': ['AR', 'AT', 'BE', 'BO', 'BR', 'BG', 'CA', 'CL', 'CO', 'CR', 'CY', 'CZ', 'DK', 'DO', 'DE', 'EC', 'EE', 'SV', 'FI', 'FR', 'GR', 'GT', 'HN', 'HK', 'HU', 'IS', 'IE', 'IT', 'LV', 'LT', 'LU', 'MY', 'MT', 'MX', 'NL', 'NI', 'NO', 'PA', 'PY', 'PE', 'PH', 'PL', 'PT', 'SG', 'SK', 'ES', 'SE', 'CH', 'TW', 'TR', 'UY', 'US', 'GB', 'AD', 'LI', 'MC', 'ID', 'JP', 'TH', 'VN', 'RO', 'IL', 'ZA', 'SA', 'AE', 'BH', 'QA', 'OM', 'KW', 'EG', 'MA', 'DZ', 'TN', 'LB', 'JO', 'PS', 'IN', 'BY', 'KZ', 'MD', 'UA', 'AL', 'BA', 'HR', 'ME', 'MK', 'RS', 'SI', 'BD', 'PK', 'LK', 'GH', 'KE', 'NG', 'TZ', 'UG', 'AG', 'AM', 'BS', 'BB', 'BZ', 'BT', 'BW', 'BF', 'CV', 'CW', 'DM', 'GM', 'GE', 'GD', 'GW', 'GY', 'HT', 'JM', 'LS', 'LR', 'MW', 'MV', 'ML', 'FM', 'NA', 'NE', 'PR', 'SM', 'ST', 'SN', 'SC', 'SL', 'KN', 'LC', 'VC', 'SR', 'TL', 'TT', 'AZ', 'BN', 'BI', 'KH', 'CM', 'TD', 'KM', 'GQ', 'SZ', 'GA', 'GN', 'KG', 'LA', 'MO', 'MR', 'MN', 'NP', 'RW', 'TG', 'UZ', 'ZW', 'BJ', 'MG', 'MU', 'MZ', 'AO', 'CI', 'DJ', 'ZM', 'CD', 'CG', 'IQ', 'LY', 'TJ', 'VE', 'ET', 'XK'], 'disc_number': 1, 'duration_ms': 217746, 'explicit': False, 'external_ids': {'isrc': 'USRC11502934'}, 'external_urls': {'spotify': 'https://open.spotify.com/track/1yvMUkIOTeUNtNWlWRgANS'}, 'href': 'https://api.spotify.com/v1/tracks/1yvMUkIOTeUNtNWlWRgANS', 'id': '1yvMUkIOTeUNtNWlWRgANS', 'is_local': False, 'name': 'Unstoppable', 'popularity': 78, 'preview_url': 'https://p.scdn.co/mp3-preview/99a07d00531c0053f55a46e94ed92b1560396754?cid=49cf14e7c3d3410c9c5afd02a43cd84e', 'track_number': 5, 'type': 'track', 'uri': 'spotify:track:1yvMUkIOTeUNtNWlWRgANS'}\n"
     ]
    }
   ],
   "source": [
    "print(data[\"items\"][0][\"track\"])"
   ]
  }
 ],
 "metadata": {
  "kernelspec": {
   "display_name": "Python 3 (ipykernel)",
   "language": "python",
   "name": "python3"
  },
  "language_info": {
   "codemirror_mode": {
    "name": "ipython",
    "version": 3
   },
   "file_extension": ".py",
   "mimetype": "text/x-python",
   "name": "python",
   "nbconvert_exporter": "python",
   "pygments_lexer": "ipython3",
   "version": "3.12.4"
  }
 },
 "nbformat": 4,
 "nbformat_minor": 5
}
